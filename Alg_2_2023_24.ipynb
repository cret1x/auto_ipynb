{
  "cells": [
    {
      "cell_type": "markdown",
      "metadata": {
        "id": "lyLK36PFW8nP"
      },
      "source": [
        "# Практическое занятие 2\n",
        "## Компьютерный практикум по алгебре на Python"
      ]
    },
    {
      "cell_type": "markdown",
      "metadata": {
        "id": "l9MyiGE2W8nX"
      },
      "source": [
        "## Матрицы. Подстановки. Формулы Крамера для решения СЛАУ.\n",
        "https://docs.sympy.org/latest/tutorial/matrices.html\n",
        "\n",
        "С помощью Matrix можно создавать матрицы, элементами которых служат не только числа или числовые выражения, но и символы Symbol, играющие роль математических переменных. Переменные могут принимать какие-то значения, эти значения можно подставлять в матрицы (и не только в них!) с помощью метода subs."
      ]
    },
    {
      "cell_type": "code",
      "execution_count": 1,
      "metadata": {
        "id": "_wSqxHAUW8nZ"
      },
      "outputs": [],
      "source": [
        "from sympy import Symbol, symbols, Matrix, pi"
      ]
    },
    {
      "cell_type": "markdown",
      "metadata": {
        "id": "7hfN7PGAW8na"
      },
      "source": [
        "**Пример 1**\n",
        "\n",
        "Создадим матрицу А с элементами - выражениями, содержащими математические переменные (символы):"
      ]
    },
    {
      "cell_type": "code",
      "execution_count": 2,
      "metadata": {
        "colab": {
          "base_uri": "https://localhost:8080/",
          "height": 58
        },
        "id": "8opZTQbKW8nb",
        "outputId": "1b4fbdf2-ed63-4ecb-94cd-1763c80ebee4"
      },
      "outputs": [
        {
          "data": {
            "text/latex": [
              "$\\displaystyle \\left[\\begin{matrix}b x_{1} + x_{2} & x_{3} - 1\\\\0 & a^{2} - b\\end{matrix}\\right]$"
            ],
            "text/plain": [
              "Matrix([\n",
              "[b*x1 + x2,   x3 - 1],\n",
              "[        0, a**2 - b]])"
            ]
          },
          "execution_count": 2,
          "metadata": {},
          "output_type": "execute_result"
        }
      ],
      "source": [
        "a, b, x1, x2, x3 = symbols('a b x1:4')\n",
        "A = Matrix([[b * x1 + x2, x3 - 1], [0, a ** 2 - b]])\n",
        "A"
      ]
    },
    {
      "cell_type": "markdown",
      "metadata": {
        "id": "SvGzkTfEW8nc"
      },
      "source": [
        "**Подстановки subs (замена переменной)**\n",
        "\n",
        "Выполнять подстановки в матрице (и в символьном выражении) можно с помощью метода **subs**, применяемого в выражению (класс Expression).\n",
        "\n",
        "**Пример 2**\n",
        "\n",
        "Пусть нужно выполнить только одну подстановку в матрице А, например, вместо $b$ подставить $a-1$. Для этого достаточно передать  subs в качестве аргументов сначала $b$, а потом $a-1$:"
      ]
    },
    {
      "cell_type": "code",
      "execution_count": 3,
      "metadata": {
        "colab": {
          "base_uri": "https://localhost:8080/",
          "height": 58
        },
        "id": "SNwzY27XW8nd",
        "outputId": "87b325c2-4139-4149-95e9-1c2ead09e0ee"
      },
      "outputs": [
        {
          "data": {
            "text/latex": [
              "$\\displaystyle \\left[\\begin{matrix}x_{1} \\left(a - 1\\right) + x_{2} & x_{3} - 1\\\\0 & a^{2} - a + 1\\end{matrix}\\right]$"
            ],
            "text/plain": [
              "Matrix([\n",
              "[x1*(a - 1) + x2,       x3 - 1],\n",
              "[              0, a**2 - a + 1]])"
            ]
          },
          "execution_count": 3,
          "metadata": {},
          "output_type": "execute_result"
        }
      ],
      "source": [
        "A.subs(b, a - 1)"
      ]
    },
    {
      "cell_type": "markdown",
      "metadata": {
        "id": "S_4JI3SUW8nq"
      },
      "source": [
        "**Пример 3**\n",
        "\n",
        "Прямые на плоскости заданы уравнениями. Используя формулы Крамера, найти все точки пересечения всех пар прямых. Составить матрицу из координат точек пересечения, взятых в качестве строк.\n",
        "\\begin{align*}\n",
        "\\begin{matrix} 3 x + 5 y  = 8 \\\\\n",
        "x + 2 y  = 3 \\\\\n",
        "3 x + y  = 1 \\\\\n",
        "x -2 y  = -3\n",
        "\\end{matrix}\n",
        "\\end{align*}\n",
        "Для вычисления координат точки пересечения произвольной пары прямых составим матрицу $A$ и вектор-столбец $b$ с элементами - параметрами, решим по формулам Крамера соответствующую СЛАУ, используя код из Примера 7.\n",
        "\n",
        "Для каждой пары прямых с помощью подстановок будем находить определитель  $A$. Если он отличен от нуля, то найдем точку пересечения, подставив значения параметров в решение СЛАУ.\n",
        "\n",
        "Упростим процедуру подстановки, создав список подстановок subs\\_list.\n",
        "\n",
        "Можно создать единый список подстановок, в котором все параметры подставляются, а можно сначала создать список подстановок в матрицу $A$, а потом к нему добавить подстановки параметров $b1$ и $b2$ (правые части уравнений)."
      ]
    },
    {
      "cell_type": "code",
      "execution_count": 17,
      "metadata": {
        "colab": {
          "base_uri": "https://localhost:8080/",
          "height": 139
        },
        "id": "v1Dn8l2aW8nq",
        "outputId": "c0ce19aa-72f6-46d4-d0ab-8e5afb55e5a8"
      },
      "outputs": [
        {
          "data": {
            "text/latex": [
              "$\\displaystyle \\left[\\begin{matrix}a_{11} & a_{12}\\\\a_{21} & a_{22}\\end{matrix}\\right]$"
            ],
            "text/plain": [
              "Matrix([\n",
              "[a11, a12],\n",
              "[a21, a22]])"
            ]
          },
          "metadata": {},
          "output_type": "display_data"
        },
        {
          "data": {
            "text/latex": [
              "$\\displaystyle \\left[\\begin{matrix}b_{1}\\\\b_{2}\\end{matrix}\\right]$"
            ],
            "text/plain": [
              "Matrix([\n",
              "[b1],\n",
              "[b2]])"
            ]
          },
          "metadata": {},
          "output_type": "display_data"
        },
        {
          "data": {
            "text/latex": [
              "$\\displaystyle \\left[\\begin{matrix}- \\frac{1}{2} & -1 & - \\frac{1}{5} & - \\frac{7}{8} & - \\frac{1}{4} & 1\\\\\\frac{5}{2} & 2 & \\frac{8}{5} & \\frac{17}{8} & \\frac{7}{4} & 1\\end{matrix}\\right]$"
            ],
            "text/plain": [
              "Matrix([\n",
              "[-1/2, -1, -1/5, -7/8, -1/4, 1],\n",
              "[ 5/2,  2,  8/5, 17/8,  7/4, 1]])"
            ]
          },
          "execution_count": 17,
          "metadata": {},
          "output_type": "execute_result"
        }
      ],
      "source": [
        "a11, a12, a21, a22, b1, b2 = symbols('a(1:3)(1:3) b1:3')\n",
        "A = Matrix([[a11, a12], [a21, a22]])\n",
        "b = Matrix([b1, b2])\n",
        "display(A, b)\n",
        "\n",
        "A_det = A.det()\n",
        "n, m = A.shape\n",
        "An = [A.copy() for i in range(n)]\n",
        "for i in range(n):\n",
        "    An[i][:, i] = b\n",
        "\n",
        "X = Matrix([Ai.det() / A_det for Ai in An])\n",
        "\n",
        "lines = [[3, 5, 8], [1, 2, 3], [3, 1, 1], [1, -1, -3]]\n",
        "points = Matrix([])\n",
        "n = len(lines)\n",
        "for i in range(n):\n",
        "    for j in range(i + 1, n):  # начинается с i+1, чтобы не искать пересечение прямой с самой собой\n",
        "        subs_list = [(a11, lines[i][0]), (a12, lines[i][1]), (a21, lines[j][0]),\n",
        "                     (a22, lines[j][1]), (b1, lines[i][2]), (b2, lines[j][2])]\n",
        "        if A_det.subs(subs_list) != 0:\n",
        "            points = points.col_insert(0, Matrix([X.subs(subs_list)]))\n",
        "points"
      ]
    }
  ],
  "metadata": {
    "colab": {
      "provenance": []
    },
    "kernelspec": {
      "display_name": "Python 3",
      "language": "python",
      "name": "python3"
    },
    "language_info": {
      "codemirror_mode": {
        "name": "ipython",
        "version": 3
      },
      "file_extension": ".py",
      "mimetype": "text/x-python",
      "name": "python",
      "nbconvert_exporter": "python",
      "pygments_lexer": "ipython3",
      "version": "3.7.3"
    }
  },
  "nbformat": 4,
  "nbformat_minor": 0
}
