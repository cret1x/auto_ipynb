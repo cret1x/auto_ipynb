{
  "nbformat": 4,
  "nbformat_minor": 0,
  "metadata": {
    "kernelspec": {
      "display_name": "Python 3",
      "language": "python",
      "name": "python3"
    },
    "language_info": {
      "codemirror_mode": {
        "name": "ipython",
        "version": 3
      },
      "file_extension": ".py",
      "mimetype": "text/x-python",
      "name": "python",
      "nbconvert_exporter": "python",
      "pygments_lexer": "ipython3",
      "version": "3.7.3"
    },
    "colab": {
      "provenance": []
    }
  },
  "cells": [
    {
      "cell_type": "markdown",
      "metadata": {
        "id": "lyLK36PFW8nP"
      },
      "source": [
        "# Практическое занятие 2\n",
        "## Компьютерный практикум по алгебре на Python"
      ]
    },
    {
      "cell_type": "markdown",
      "metadata": {
        "id": "l9MyiGE2W8nX"
      },
      "source": [
        "## Матрицы. Подстановки. Формулы Крамера для решения СЛАУ.\n",
        "https://docs.sympy.org/latest/tutorial/matrices.html\n",
        "\n",
        "С помощью Matrix можно создавать матрицы, элементами которых служат не только числа или числовые выражения, но и символы Symbol, играющие роль математических переменных. Переменные могут принимать какие-то значения, эти значения можно подставлять в матрицы (и не только в них!) с помощью метода subs."
      ]
    },
    {
      "cell_type": "code",
      "metadata": {
        "id": "_wSqxHAUW8nZ"
      },
      "source": [
        "from sympy import Symbol, symbols, Matrix, pi"
      ],
      "execution_count": 1,
      "outputs": []
    },
    {
      "cell_type": "markdown",
      "metadata": {
        "id": "7hfN7PGAW8na"
      },
      "source": [
        "**Пример 1**\n",
        "\n",
        "Создадим матрицу А с элементами - выражениями, содержащими математические переменные (символы):"
      ]
    },
    {
      "cell_type": "code",
      "metadata": {
        "colab": {
          "base_uri": "https://localhost:8080/",
          "height": 58
        },
        "id": "8opZTQbKW8nb",
        "outputId": "1b4fbdf2-ed63-4ecb-94cd-1763c80ebee4"
      },
      "source": [
        "a, b, x1, x2, x3 = symbols('a b x1:4')\n",
        "A = Matrix([[b * x1 + x2, x3 - 1], [0, a ** 2 - b]])\n",
        "A"
      ],
      "execution_count": 2,
      "outputs": [
        {
          "output_type": "execute_result",
          "data": {
            "text/plain": [
              "Matrix([\n",
              "[b*x1 + x2,   x3 - 1],\n",
              "[        0, a**2 - b]])"
            ],
            "text/latex": "$\\displaystyle \\left[\\begin{matrix}b x_{1} + x_{2} & x_{3} - 1\\\\0 & a^{2} - b\\end{matrix}\\right]$"
          },
          "metadata": {},
          "execution_count": 2
        }
      ]
    },
    {
      "cell_type": "markdown",
      "metadata": {
        "id": "SvGzkTfEW8nc"
      },
      "source": [
        "**Подстановки subs (замена переменной)**\n",
        "\n",
        "Выполнять подстановки в матрице (и в символьном выражении) можно с помощью метода **subs**, применяемого в выражению (класс Expression).\n",
        "\n",
        "**Пример 2**\n",
        "\n",
        "Пусть нужно выполнить только одну подстановку в матрице А, например, вместо $b$ подставить $a-1$. Для этого достаточно передать  subs в качестве аргументов сначала $b$, а потом $a-1$:"
      ]
    },
    {
      "cell_type": "code",
      "metadata": {
        "colab": {
          "base_uri": "https://localhost:8080/",
          "height": 58
        },
        "id": "SNwzY27XW8nd",
        "outputId": "87b325c2-4139-4149-95e9-1c2ead09e0ee"
      },
      "source": [
        "A.subs(b, a - 1)"
      ],
      "execution_count": 3,
      "outputs": [
        {
          "output_type": "execute_result",
          "data": {
            "text/plain": [
              "Matrix([\n",
              "[x1*(a - 1) + x2,       x3 - 1],\n",
              "[              0, a**2 - a + 1]])"
            ],
            "text/latex": "$\\displaystyle \\left[\\begin{matrix}x_{1} \\left(a - 1\\right) + x_{2} & x_{3} - 1\\\\0 & a^{2} - a + 1\\end{matrix}\\right]$"
          },
          "metadata": {},
          "execution_count": 3
        }
      ]
    },
    {
      "cell_type": "markdown",
      "metadata": {
        "id": "mSknj4DeW8ne"
      },
      "source": [
        "Метод subs возвращает подстановку в качестве результата, исходное выражение (в нашем случае матрица) не меняется"
      ]
    },
    {
      "cell_type": "code",
      "metadata": {
        "colab": {
          "base_uri": "https://localhost:8080/",
          "height": 58
        },
        "id": "YoU1tPXvW8nf",
        "outputId": "45286095-4989-4f22-965d-712d162d3caf"
      },
      "source": [
        "A"
      ],
      "execution_count": 4,
      "outputs": [
        {
          "output_type": "execute_result",
          "data": {
            "text/plain": [
              "Matrix([\n",
              "[b*x1 + x2,   x3 - 1],\n",
              "[        0, a**2 - b]])"
            ],
            "text/latex": "$\\displaystyle \\left[\\begin{matrix}b x_{1} + x_{2} & x_{3} - 1\\\\0 & a^{2} - b\\end{matrix}\\right]$"
          },
          "metadata": {},
          "execution_count": 4
        }
      ]
    },
    {
      "cell_type": "markdown",
      "metadata": {
        "id": "jYPQTyqxW8ng"
      },
      "source": [
        "**Несколько подстановок одновременно. Список подстановок**\n",
        "\n",
        "в качестве аргумента методу subs можно передать список подстановок, они будут выполнены в заданном порядке.\n",
        "\n",
        "**Пример 3.**\n",
        "\n",
        "Заменим в матрице А сначала $a$ на $b^3$, а затем $b$ на $a^4$."
      ]
    },
    {
      "cell_type": "code",
      "metadata": {
        "colab": {
          "base_uri": "https://localhost:8080/",
          "height": 58
        },
        "id": "iyHSeNwrW8nh",
        "outputId": "f2129e73-44c5-4d39-a3fc-f1a91ecb8dc6"
      },
      "source": [
        "A.subs([(a, b ** 3), (b, a ** 4)])"
      ],
      "execution_count": 5,
      "outputs": [
        {
          "output_type": "execute_result",
          "data": {
            "text/plain": [
              "Matrix([\n",
              "[a**4*x1 + x2,       x3 - 1],\n",
              "[           0, a**24 - a**4]])"
            ],
            "text/latex": "$\\displaystyle \\left[\\begin{matrix}a^{4} x_{1} + x_{2} & x_{3} - 1\\\\0 & a^{24} - a^{4}\\end{matrix}\\right]$"
          },
          "metadata": {},
          "execution_count": 5
        }
      ]
    },
    {
      "cell_type": "markdown",
      "metadata": {
        "id": "BfXsrvFnW8nh"
      },
      "source": [
        "Выполним подстановки в обратном порядке:"
      ]
    },
    {
      "cell_type": "code",
      "metadata": {
        "colab": {
          "base_uri": "https://localhost:8080/",
          "height": 58
        },
        "id": "9JWqmkmUW8ni",
        "outputId": "3221f73b-f6d0-46f5-f965-4bc287bef0f4"
      },
      "source": [
        "A.subs([(b, a ** 4), (a, b ** 3)])"
      ],
      "execution_count": 6,
      "outputs": [
        {
          "output_type": "execute_result",
          "data": {
            "text/plain": [
              "Matrix([\n",
              "[b**12*x1 + x2,        x3 - 1],\n",
              "[            0, -b**12 + b**6]])"
            ],
            "text/latex": "$\\displaystyle \\left[\\begin{matrix}b^{12} x_{1} + x_{2} & x_{3} - 1\\\\0 & - b^{12} + b^{6}\\end{matrix}\\right]$"
          },
          "metadata": {},
          "execution_count": 6
        }
      ]
    },
    {
      "cell_type": "markdown",
      "metadata": {
        "id": "zKMNFU4rW8ni"
      },
      "source": [
        "Удостоверились, что порядок подстановок влияет на результат. В нашем случае это связано с тем, что подстановки связаны друг с другом. Для независимых подстановок порядок не результат не влияет.\n",
        "\n",
        "**Пример 4**\n",
        "\n",
        "Заменим в матрице А  $a$ на $\\pi$,  $b$ на $b^4$. Эти подстановки независимы, они не влияют друг на друга, поэтому результат подстановки не будет зависеть от порядка подстановок в списке."
      ]
    },
    {
      "cell_type": "code",
      "metadata": {
        "colab": {
          "base_uri": "https://localhost:8080/",
          "height": 98
        },
        "id": "OtnFHrwfW8nj",
        "outputId": "864e6009-554a-4db7-b723-f2543d867dd8"
      },
      "source": [
        "display(A.subs([(a, pi), (b, b ** 4)]))\n",
        "display(A.subs([(b, b ** 4), (a, pi)]))"
      ],
      "execution_count": 7,
      "outputs": [
        {
          "output_type": "display_data",
          "data": {
            "text/plain": [
              "Matrix([\n",
              "[b**4*x1 + x2,        x3 - 1],\n",
              "[           0, -b**4 + pi**2]])"
            ],
            "text/latex": "$\\displaystyle \\left[\\begin{matrix}b^{4} x_{1} + x_{2} & x_{3} - 1\\\\0 & - b^{4} + \\pi^{2}\\end{matrix}\\right]$"
          },
          "metadata": {}
        },
        {
          "output_type": "display_data",
          "data": {
            "text/plain": [
              "Matrix([\n",
              "[b**4*x1 + x2,        x3 - 1],\n",
              "[           0, -b**4 + pi**2]])"
            ],
            "text/latex": "$\\displaystyle \\left[\\begin{matrix}b^{4} x_{1} + x_{2} & x_{3} - 1\\\\0 & - b^{4} + \\pi^{2}\\end{matrix}\\right]$"
          },
          "metadata": {}
        }
      ]
    },
    {
      "cell_type": "markdown",
      "metadata": {
        "id": "eY9PHd2cW8nj"
      },
      "source": [
        "**Словарь подстановок**\n",
        "\n",
        "О словарях можно почитать здесь:\n",
        "\n",
        "https://docs.python.org/3/library/stdtypes.html#index-50\n",
        "\n",
        "о подстановках в виде словаря здесь:\n",
        "\n",
        "https://docs.sympy.org/latest/modules/core.html?highlight=subs#sympy.core.basic.Basic.subs\n",
        "\n",
        "**Кратко о словарях:**\n",
        "\n",
        "словарь в Python задается перечислением пар ключ-значение,\n",
        "\n",
        "{ключ1: значение1, ..., ключ100: значение100}\n",
        "\n",
        "Неважно, в каком порядке перечислены записи словаря, при обработке они будут упорядочены по ключам в соответствии с правилом упорядочивания ключей.\n",
        "\n",
        "Имена упорядочиваются лексикографически (по-алфавиту).\n",
        "\n",
        "**ВАЖНО!**\n",
        "Если в словаре были добавлены записи, то они упорядочиваются в порядке добавления, а не лексикографически!\n",
        "Подробнее о словарях в следующей работе.\n",
        "\n",
        "**Сейчас нам понадобится:**\n",
        "\n",
        "при использовании словаря для нескольких подстановок методу subs передается словарь со старыми переменными в роли ключей и новыми в роли значений: ХХХ.subs({старая переменная 1: новое значение 1, старая переменная 2: новое значение 2, ...})\n",
        "\n",
        "во избежание недоразумений в форме словаря лучше проводить независимые подстановки!\n",
        "\n",
        "**Пример 5.**\n",
        "\n",
        "Рассмотрим подстановки из Примера 4, но оформим их в виде словаря"
      ]
    },
    {
      "cell_type": "code",
      "metadata": {
        "colab": {
          "base_uri": "https://localhost:8080/",
          "height": 58
        },
        "id": "tXmfH8VsW8nk",
        "outputId": "f0c69be1-be8f-405c-cf07-e0c0795dbfce"
      },
      "source": [
        "A.subs({a: b ** 3, b: a ** 4})"
      ],
      "execution_count": 8,
      "outputs": [
        {
          "output_type": "execute_result",
          "data": {
            "text/plain": [
              "Matrix([\n",
              "[a**4*x1 + x2,       x3 - 1],\n",
              "[           0, a**24 - a**4]])"
            ],
            "text/latex": "$\\displaystyle \\left[\\begin{matrix}a^{4} x_{1} + x_{2} & x_{3} - 1\\\\0 & a^{24} - a^{4}\\end{matrix}\\right]$"
          },
          "metadata": {},
          "execution_count": 8
        }
      ]
    },
    {
      "cell_type": "markdown",
      "metadata": {
        "id": "upVjYl1_W8nk"
      },
      "source": [
        "Проверим, что порядок перечисления подстановок не влияет на результат"
      ]
    },
    {
      "cell_type": "code",
      "metadata": {
        "colab": {
          "base_uri": "https://localhost:8080/",
          "height": 58
        },
        "id": "vI4jkJwzW8nk",
        "outputId": "75966287-b1a9-4b6a-a385-fd3ab2ff1054"
      },
      "source": [
        "A.subs({b: a ** 4, a: b ** 3})"
      ],
      "execution_count": 9,
      "outputs": [
        {
          "output_type": "execute_result",
          "data": {
            "text/plain": [
              "Matrix([\n",
              "[a**4*x1 + x2,       x3 - 1],\n",
              "[           0, a**24 - a**4]])"
            ],
            "text/latex": "$\\displaystyle \\left[\\begin{matrix}a^{4} x_{1} + x_{2} & x_{3} - 1\\\\0 & a^{24} - a^{4}\\end{matrix}\\right]$"
          },
          "metadata": {},
          "execution_count": 9
        }
      ]
    },
    {
      "cell_type": "markdown",
      "metadata": {
        "id": "lCEdvL9XW8nl"
      },
      "source": [
        "**Одновременное выполнение подстановок**\n",
        "\n",
        "производится заданием параметра simultaneous=True, по умолчанию этот параметр False\n",
        "\n",
        "**Пример 6.**\n",
        "\n",
        "Выполним в матрице А замену  $x_1$ на $x_3$,  $x_3$  на $x_2$ одноверменно и в автоматически определяемом порядке.\n",
        "Вначале поменяем значение параметра simultaneous на True:"
      ]
    },
    {
      "cell_type": "code",
      "metadata": {
        "colab": {
          "base_uri": "https://localhost:8080/",
          "height": 58
        },
        "id": "tDX8QiK1W8nl",
        "outputId": "1c9ad118-f00c-41e4-dd9b-b05f9233bad3"
      },
      "source": [
        "A.subs({x1: x3, x3: x2}, simultaneous=True)"
      ],
      "execution_count": 10,
      "outputs": [
        {
          "output_type": "execute_result",
          "data": {
            "text/plain": [
              "Matrix([\n",
              "[b*x3 + x2,   x2 - 1],\n",
              "[        0, a**2 - b]])"
            ],
            "text/latex": "$\\displaystyle \\left[\\begin{matrix}b x_{3} + x_{2} & x_{2} - 1\\\\0 & a^{2} - b\\end{matrix}\\right]$"
          },
          "metadata": {},
          "execution_count": 10
        }
      ]
    },
    {
      "cell_type": "markdown",
      "metadata": {
        "id": "N4-rTed0W8nm"
      },
      "source": [
        " Сравним результат с тем, что был бы без изменения параметра simultaneous:"
      ]
    },
    {
      "cell_type": "code",
      "metadata": {
        "colab": {
          "base_uri": "https://localhost:8080/",
          "height": 58
        },
        "id": "_pg1aogBW8nm",
        "outputId": "6dc12fd1-fcdd-4edb-80c6-6fefe64b7f8a"
      },
      "source": [
        "A.subs({x1: x3, x3: x2})"
      ],
      "execution_count": 11,
      "outputs": [
        {
          "output_type": "execute_result",
          "data": {
            "text/plain": [
              "Matrix([\n",
              "[b*x2 + x2,   x2 - 1],\n",
              "[        0, a**2 - b]])"
            ],
            "text/latex": "$\\displaystyle \\left[\\begin{matrix}b x_{2} + x_{2} & x_{2} - 1\\\\0 & a^{2} - b\\end{matrix}\\right]$"
          },
          "metadata": {},
          "execution_count": 11
        }
      ]
    },
    {
      "cell_type": "markdown",
      "metadata": {
        "id": "HePGN0zlW8nn"
      },
      "source": [
        "Отличие в том, что в последнем случае сначала вместо $x_1$ подставили $x_3$, а затем все  $x_3$ (и старые, и вновь появившиеся) заменили на $x_2$, так что в А не осталось $x_3$. В случае одновременных подстановок вместо $x_1$ подставили\n",
        "$x_3$, но на $x_2$  заменили только те $x_3$, которые были в А изначально, так что появившаяся в результате подстановки $x_3$ сохранилась."
      ]
    },
    {
      "cell_type": "markdown",
      "metadata": {
        "id": "IuACzak_W8nn"
      },
      "source": [
        "## Формулы Крамера.\n",
        "Пусть дана СЛАУ $Ax=b$ с квадратной матрицей $A$, тогда элементы $x_i$ вектора $x$, являющегося решением этой СЛАУ, можно вычислить по формулам\n",
        "$$\n",
        "x_i=\\frac{|A_i|}{|A|},\n",
        "$$\n",
        "где $A_i$ - матрица, полученная заменой $i$-го столбца матрицы А на столбец  $b$.\n",
        "\n",
        "**Пример 7.**\n",
        "\n",
        "Решить по формулам Крамера СЛАУ\n",
        "\\begin{align*}\n",
        "\\left\\{\\begin{matrix}- 3 x_{1} + 2 x_{2} + 4 x_{3} = -8\n",
        "\\\\- 3 x_{1} + 8 x_{2} + 8 x_{3} = 8\n",
        "\\\\- 6 x_{1} - 5 x_{2} + 8 x_{3} = -4\n",
        "\\end{matrix}\\right.\n",
        " \\end{align*}\n",
        "\n",
        "Вначале составим матрицу\n",
        "$А =\n",
        "\\left(\\begin{matrix}- 3 & 2 & 4 \\\\\n",
        "\\\\- 3 & 8 & 8 \\\\\n",
        "\\\\- 6 & - 5 & 8\n",
        "\\end{matrix}\\right)\n",
        "$ левой части СЛАУ, затем столбец\n",
        "$b=\n",
        "\\left(\\begin{matrix} - 8 \\\\ 8 \\\\ -4\n",
        "\\end{matrix}\\right)\n",
        "$.\n",
        "\n",
        "**Способ 1.**\n",
        "\n",
        "Скопируем матрицу $A$ в $A1$, $A2$ и $A3$.\n",
        "Удалим из матрицы $A1$ первый столбец, а затем вставим столбец $b$  на его место.\n",
        "То же самое проделаем со вторым солбцом $A2$ и третьим столбцом $A3$. Определители полученных матриц поделим на определитель матрицы $A$, получим столбец решения СЛАУ."
      ]
    },
    {
      "cell_type": "code",
      "metadata": {
        "colab": {
          "base_uri": "https://localhost:8080/",
          "height": 60
        },
        "id": "1xrcsqJNW8nn",
        "outputId": "506a20e1-b297-42a1-ab09-3a125f25ac12"
      },
      "source": [
        "A = Matrix([[-3, 2, 4], [-3, 8, 8], [-6, -5, 8]])\n",
        "b = Matrix([-8, 8, -4])\n",
        "A1 = A.copy()\n",
        "A2 = A.copy()\n",
        "A3 = A.copy()\n",
        "A1.col_del(0)\n",
        "A2.col_del(1)\n",
        "A3.col_del(2)\n",
        "A1 = A1.col_insert(0, b)\n",
        "A2 = A2.col_insert(1, b)\n",
        "A3 = A3.col_insert(2, b)\n",
        "A_det = A.det()\n",
        "X = Matrix([A1.det() / A_det, A2.det() / A_det, A3.det() / A_det])\n",
        "display(X.T, (A * X - b).T)"
      ],
      "execution_count": 12,
      "outputs": [
        {
          "output_type": "display_data",
          "data": {
            "text/plain": [
              "Matrix([[88/9, -4/3, 6]])"
            ],
            "text/latex": "$\\displaystyle \\left[\\begin{matrix}\\frac{88}{9} & - \\frac{4}{3} & 6\\end{matrix}\\right]$"
          },
          "metadata": {}
        },
        {
          "output_type": "display_data",
          "data": {
            "text/plain": [
              "Matrix([[0, 0, 0]])"
            ],
            "text/latex": "$\\displaystyle \\left[\\begin{matrix}0 & 0 & 0\\end{matrix}\\right]$"
          },
          "metadata": {}
        }
      ]
    },
    {
      "cell_type": "markdown",
      "metadata": {
        "id": "fM_LnS1PW8no"
      },
      "source": [
        "Внимание! Использование оператора присваивания A = A1 приводит только к созданию нового указателя на матрицу А, так что A1.col_del(0) приводит к удалению первого столбца в самой матрице А. Создание именно независимой копии матрицу А можно провести также как поэлементное копирование А1 = А[:, :], результат такой же, но код выглядит менее читаемо.\n",
        "\n",
        "При большой размерности задачи, конечно, нужно использовать цикл, в нашем случае, например, так:"
      ]
    },
    {
      "cell_type": "code",
      "metadata": {
        "colab": {
          "base_uri": "https://localhost:8080/",
          "height": 60
        },
        "id": "Pvp7KgPpW8no",
        "outputId": "9fa9df07-e823-49a5-f791-e9d3ffceb019"
      },
      "source": [
        "X = Matrix([0, 0, 0])\n",
        "for i in range(A.shape[0]):\n",
        "    Ai = A.copy()\n",
        "    Ai.col_del(i)\n",
        "    X[i] = Ai.col_insert(i, b).det() / A_det\n",
        "display(X.T, (A * X - b).T)"
      ],
      "execution_count": 13,
      "outputs": [
        {
          "output_type": "display_data",
          "data": {
            "text/plain": [
              "Matrix([[88/9, -4/3, 6]])"
            ],
            "text/latex": "$\\displaystyle \\left[\\begin{matrix}\\frac{88}{9} & - \\frac{4}{3} & 6\\end{matrix}\\right]$"
          },
          "metadata": {}
        },
        {
          "output_type": "display_data",
          "data": {
            "text/plain": [
              "Matrix([[0, 0, 0]])"
            ],
            "text/latex": "$\\displaystyle \\left[\\begin{matrix}0 & 0 & 0\\end{matrix}\\right]$"
          },
          "metadata": {}
        }
      ]
    },
    {
      "cell_type": "markdown",
      "metadata": {
        "id": "v9p_ne44W8no"
      },
      "source": [
        "**Способ 2.**\n",
        "\n",
        "Будем в копиях матрицы А заменять элементы соответствующего столбца на элементы столбца $b$ вместо удаления и добавления столбцов, остальное - как в способе 1.\n",
        "\n",
        "Можно про вычислениях обойтись одной вспомогательной матрицей $Ai$:"
      ]
    },
    {
      "cell_type": "code",
      "metadata": {
        "colab": {
          "base_uri": "https://localhost:8080/",
          "height": 60
        },
        "id": "4ndJm1TmW8np",
        "outputId": "d0b28cd5-3b04-47c6-afa9-4b93e21446a1"
      },
      "source": [
        "n = A.shape[0]\n",
        "X = []\n",
        "for i in range(n):\n",
        "    Ai = A.copy()\n",
        "    Ai[:, i] = b\n",
        "    X += [Ai.det() / A_det]\n",
        "X = Matrix(X)\n",
        "display(X.T, (A * X - b).T)"
      ],
      "execution_count": 14,
      "outputs": [
        {
          "output_type": "display_data",
          "data": {
            "text/plain": [
              "Matrix([[88/9, -4/3, 6]])"
            ],
            "text/latex": "$\\displaystyle \\left[\\begin{matrix}\\frac{88}{9} & - \\frac{4}{3} & 6\\end{matrix}\\right]$"
          },
          "metadata": {}
        },
        {
          "output_type": "display_data",
          "data": {
            "text/plain": [
              "Matrix([[0, 0, 0]])"
            ],
            "text/latex": "$\\displaystyle \\left[\\begin{matrix}0 & 0 & 0\\end{matrix}\\right]$"
          },
          "metadata": {}
        }
      ]
    },
    {
      "cell_type": "markdown",
      "metadata": {
        "id": "xECnwuj5W8np"
      },
      "source": [
        "В более компактном коде, приведенном ниже создается сразу несколько копий матрицы А, они занимают больше памяти, чем в предыдущем варианте."
      ]
    },
    {
      "cell_type": "code",
      "metadata": {
        "colab": {
          "base_uri": "https://localhost:8080/",
          "height": 60
        },
        "id": "6N4Cg4TuW8np",
        "outputId": "ca1ae76c-4758-47fc-8295-f56ac2fb30aa"
      },
      "source": [
        "n = A.shape[0]\n",
        "An = [A.copy() for _ in range(n)]\n",
        "for i in range(n):\n",
        "    An[i][:, i] = b\n",
        "X = Matrix([Ai.det() / A_det for Ai in An])\n",
        "display(X.T, (A * X - b).T)"
      ],
      "execution_count": 15,
      "outputs": [
        {
          "output_type": "display_data",
          "data": {
            "text/plain": [
              "Matrix([[88/9, -4/3, 6]])"
            ],
            "text/latex": "$\\displaystyle \\left[\\begin{matrix}\\frac{88}{9} & - \\frac{4}{3} & 6\\end{matrix}\\right]$"
          },
          "metadata": {}
        },
        {
          "output_type": "display_data",
          "data": {
            "text/plain": [
              "Matrix([[0, 0, 0]])"
            ],
            "text/latex": "$\\displaystyle \\left[\\begin{matrix}0 & 0 & 0\\end{matrix}\\right]$"
          },
          "metadata": {}
        }
      ]
    },
    {
      "cell_type": "markdown",
      "metadata": {
        "id": "dQykqvBBW8np"
      },
      "source": [
        "**Функции пользователя**\n",
        "\n",
        "Для более наглядного и удобного решения задачи былает удобно разбить ее на подзадачи и каждую подзадачу оформить в виде функции следующим образом:\n",
        "```\n",
        "def function_name(arg1, ..., arg2):\n",
        "     \n",
        "    .....\n",
        "    \n",
        "    return something\n",
        "```   \n",
        "Ключевое слово return можно опустить, если предполагается, что функция ничего не возвращает, как, например, print.\n",
        "\n",
        "\n",
        "**Пример 8**\n",
        "\n",
        "Опишем функцию, которая строит расширенную матрицу СЛАУ на основе матрицы левой части $A$ и вектора правой части $b$. Воспользуемся col_insert для вставки $b$ и shape для определения числа столбцов в $A$."
      ]
    },
    {
      "cell_type": "code",
      "metadata": {
        "colab": {
          "base_uri": "https://localhost:8080/",
          "height": 58
        },
        "id": "nHz7eamqW8np",
        "outputId": "ebe8192d-6e12-4dc1-c216-5567f90b2070"
      },
      "source": [
        "def Ab(A, b):\n",
        "    return A.col_insert(A.shape[1], b)\n",
        "\n",
        "A = Matrix([[1, 3], [2, 5]])\n",
        "b = Matrix([7, 8])\n",
        "Ab(A, b)"
      ],
      "execution_count": 16,
      "outputs": [
        {
          "output_type": "execute_result",
          "data": {
            "text/plain": [
              "Matrix([\n",
              "[1, 3, 7],\n",
              "[2, 5, 8]])"
            ],
            "text/latex": "$\\displaystyle \\left[\\begin{matrix}1 & 3 & 7\\\\2 & 5 & 8\\end{matrix}\\right]$"
          },
          "metadata": {},
          "execution_count": 16
        }
      ]
    },
    {
      "cell_type": "markdown",
      "metadata": {
        "id": "S_4JI3SUW8nq"
      },
      "source": [
        "**Пример 9**\n",
        "\n",
        "Прямые на плоскости заданы уравнениями. Используя формулы Крамера, найти все точки пересечения всех пар прямых. Составить матрицу из координат точек пересечения, взятых в качестве строк.\n",
        "\\begin{align*}\n",
        "\\begin{matrix} 3 x + 5 y  = 8 \\\\\n",
        "x + 2 y  = 3 \\\\\n",
        "3 x + y  = 1 \\\\\n",
        "x -2 y  = -3\n",
        "\\end{matrix}\n",
        "\\end{align*}\n",
        "Для вычисления координат точки пересечения произвольной пары прямых составим матрицу $A$ и вектор-столбец $b$ с элементами - параметрами, решим по формулам Крамера соответствующую СЛАУ, используя код из Примера 7.\n",
        "\n",
        "Для каждой пары прямых с помощью подстановок будем находить определитель  $A$. Если он отличен от нуля, то найдем точку пересечения, подставив значения параметров в решение СЛАУ.\n",
        "\n",
        "Упростим процедуру подстановки, создав список подстановок subs\\_list.\n",
        "\n",
        "Можно создать единый список подстановок, в котором все параметры подставляются, а можно сначала создать список подстановок в матрицу $A$, а потом к нему добавить подстановки параметров $b1$ и $b2$ (правые части уравнений)."
      ]
    },
    {
      "cell_type": "code",
      "metadata": {
        "colab": {
          "base_uri": "https://localhost:8080/",
          "height": 139
        },
        "id": "v1Dn8l2aW8nq",
        "outputId": "c0ce19aa-72f6-46d4-d0ab-8e5afb55e5a8"
      },
      "source": [
        "a11, a12, a21, a22, b1, b2 = symbols('a(1:3)(1:3) b1:3')\n",
        "A = Matrix([[a11, a12], [a21, a22]])\n",
        "b = Matrix([b1, b2])\n",
        "display(A, b)\n",
        "\n",
        "A_det = A.det()\n",
        "n, m = A.shape\n",
        "An = [A.copy() for i in range(n)]\n",
        "for i in range(n):\n",
        "    An[i][:, i] = b\n",
        "\n",
        "X = Matrix([Ai.det() / A_det for Ai in An])\n",
        "\n",
        "lines = [[3, 5, 8], [1, 2, 3], [3, 1, 1], [1, -1, -3]]\n",
        "points = Matrix([])\n",
        "n = len(lines)\n",
        "for i in range(n):\n",
        "    for j in range(i + 1, n):  # начинается с i+1, чтобы не искать пересечение прямой с самой собой\n",
        "        subs_list = [(a11, lines[i][0]), (a12, lines[i][1]), (a21, lines[j][0]),\n",
        "                     (a22, lines[j][1]), (b1, lines[i][2]), (b2, lines[j][2])]\n",
        "        if A_det.subs(subs_list) != 0:\n",
        "            points = points.col_insert(0, Matrix([X.subs(subs_list)]))\n",
        "points"
      ],
      "execution_count": 17,
      "outputs": [
        {
          "output_type": "display_data",
          "data": {
            "text/plain": [
              "Matrix([\n",
              "[a11, a12],\n",
              "[a21, a22]])"
            ],
            "text/latex": "$\\displaystyle \\left[\\begin{matrix}a_{11} & a_{12}\\\\a_{21} & a_{22}\\end{matrix}\\right]$"
          },
          "metadata": {}
        },
        {
          "output_type": "display_data",
          "data": {
            "text/plain": [
              "Matrix([\n",
              "[b1],\n",
              "[b2]])"
            ],
            "text/latex": "$\\displaystyle \\left[\\begin{matrix}b_{1}\\\\b_{2}\\end{matrix}\\right]$"
          },
          "metadata": {}
        },
        {
          "output_type": "execute_result",
          "data": {
            "text/plain": [
              "Matrix([\n",
              "[-1/2, -1, -1/5, -7/8, -1/4, 1],\n",
              "[ 5/2,  2,  8/5, 17/8,  7/4, 1]])"
            ],
            "text/latex": "$\\displaystyle \\left[\\begin{matrix}- \\frac{1}{2} & -1 & - \\frac{1}{5} & - \\frac{7}{8} & - \\frac{1}{4} & 1\\\\\\frac{5}{2} & 2 & \\frac{8}{5} & \\frac{17}{8} & \\frac{7}{4} & 1\\end{matrix}\\right]$"
          },
          "metadata": {},
          "execution_count": 17
        }
      ]
    }
  ]
}