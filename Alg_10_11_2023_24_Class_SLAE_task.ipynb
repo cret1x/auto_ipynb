{
  "cells": [
    {
      "cell_type": "code",
      "source": [
        "import numpy as np\n",
        "import numpy.linalg\n",
        "import pandas as pd\n",
        "from dataclasses import dataclass, field"
      ],
      "metadata": {
        "id": "35fSDoLC_UQ8"
      },
      "id": "35fSDoLC_UQ8",
      "execution_count": null,
      "outputs": []
    },
    {
      "cell_type": "markdown",
      "source": [
        "# Задание\n",
        "\n",
        "Описать **класс SLAE**\n",
        "\n",
        "**docstring** \"\"\"My SLAE Class\"\"\"\n",
        "\n",
        "класс произвольных СЛАУ\n",
        "\n",
        "**переменные** класса:\n",
        "\n",
        "***обязательные***\n",
        "\n",
        "*  name типа str - имя СЛАУ\n",
        "\n",
        "*  a - матрица левой части, тип np.array\n",
        "\n",
        "*  b - вектор правой части, тип np.array\n",
        "\n",
        "***необязательные***\n",
        "\n",
        "*  var_num число переменных СЛАУ, по умолчанию 0\n",
        "\n",
        "*  eq_num число уравнений СЛАУ, по умолчанию 0\n",
        "\n",
        "оба целые числа\n",
        "\n",
        "**атрибуты**\n",
        "\n",
        "*  get_a\n",
        "\n",
        "*  get_b\n",
        "\n",
        "*  get_var_num\n",
        "\n",
        "*  get_eq_num\n",
        "\n",
        "*  get_dim\n",
        "\n",
        "**методы**\n",
        "\n",
        "*  set_b\n",
        "\n",
        "*  set_b_zero\n",
        "\n",
        "*  x\n",
        "\n",
        "\n",
        "**Дочерний класс SLAEhomogeneous**\n",
        "\n",
        "**переменные** класса:\n",
        "\n",
        "b - вектор правой части, тип np.array со значением по умолчанию None, не должен выводиться на экран при выведении на экран экземпляра класса (хотя в родительском классе уже есть переменная b, здесь ее нужно переопределить, чтобы она стала переменной со значением по умолчанию)\n",
        "\n",
        "**атрибуты**\n",
        "\n",
        "*  get_b\n",
        "\n",
        "**методы**\n",
        "\n",
        "*  set_b\n",
        "\n",
        "*  x\n",
        "\n",
        "**Дочерний класс SLAEsquare**\n",
        "\n",
        "**переменные** класса:\n",
        "\n",
        "singular: bool = None\n",
        "\n",
        "square: bool = None\n",
        "\n",
        "a_inv - обратная матрица для матрицы левой части, тип np.array\n",
        "\n",
        "**атрибуты**\n",
        "\n",
        "is_square  - возвращает True, если матрица квадратная\n",
        "\n",
        "is_singular - возвращает True, если матрица вырождена\n",
        "\n",
        "get_inv - - возвращает обратную матрицу, если она существует\n",
        "\n",
        "**метод**\n",
        "\n",
        "\n",
        "x"
      ],
      "metadata": {
        "id": "jIDJIfUaxyEC"
      },
      "id": "jIDJIfUaxyEC"
    },
    {
      "cell_type": "markdown",
      "source": [
        "**класс SLAE**\n",
        "\n",
        "**docstring** \"\"\"My SLAE Class\"\"\"\n",
        "\n",
        "**атрибуты**\n",
        "\n",
        "*  get_a возвращает матрицу A\n",
        "\n",
        "*  get_b  возвращает b\n",
        "\n",
        "*  get_var_num сравнивает var_num с нулем, если 0, то вычисляет число столбцов A и перезаписывает var_num, возвращает var_num\n",
        "\n",
        "*  get_eq_num аналогично get_var_num дествует с числом уравнений eq_num\n",
        "\n",
        "*  get_dim возвращает кортеж tulpe из числа уравнений и числа переменных СЛАУ, использует get_eq_num и get_var_num\n",
        "\n",
        "**методы**\n",
        "\n",
        "*  set_b проверяет, что передаваемый в качестве аргумента вектор b соответствует матрице a по размерности, после чего перезаписывает значение переменной b экземпляра класса SLAE\n",
        "\n",
        "*  set_b_zero у этого метода  нет дополнительных аргументов, метод вычисляет, какой размерности должен быть вектор b, составляет вектор из нулей и вызывает set_b\n",
        "\n",
        "*  x возвращает кортеж, первый элемент True (если решение есть и единственно)  или False (иначе), второй - решение (если есть и единственно) или пустой np.array (np.array([]))"
      ],
      "metadata": {
        "id": "820iImWxzQWE"
      },
      "id": "820iImWxzQWE"
    },
    {
      "cell_type": "markdown",
      "source": [
        "**Дочерний класс SLAEhomogeneous**\n",
        "\n",
        "**переменные** класса:\n",
        "\n",
        "b - вектор правой части, тип np.array со значением по умолчанию None, не должен выводиться на экран при выведении на экран экземпляра класса (хотя в родительском классе уже есть переменная b, здесь ее нужно переопределить, чтобы она стала переменной со значением по умолчанию)\n",
        "\n",
        "**атрибуты**\n",
        "\n",
        "*  get_b этот атрибут нужно переопределить, чтобы он возвращал вектор из нулей, размерности, соответствуюшей матрице A\n",
        "\n",
        "**методы**\n",
        "\n",
        "*  set_b этот метод  нужно переопределить, чтобы он ничего не возвращал и не делал, а только выводил сообщение 'b = 0 in homogeneous SLAE, use get_b instead'\n",
        "\n",
        "*  x метод проверяет, что матрица квадратная и невырожденная, возвращает в этом случае кортеж с True и нулевым вектором соответствующей размерности, не использует np.linalg.solve,\n",
        "иначе False и пустой np.array"
      ],
      "metadata": {
        "id": "VbTqnKltzbya"
      },
      "id": "VbTqnKltzbya"
    },
    {
      "cell_type": "markdown",
      "source": [
        "\n",
        "\n",
        "**Дочерний класс SLAEsquare**\n",
        "\n",
        "**переменные** класса:\n",
        "\n",
        "singular: True если вырожденная матрица, иначе False\n",
        "\n",
        "square: True если квадратная матрица, иначе False\n",
        "\n",
        "a_inv обратная матрица, если существует, иначе None\n",
        "\n",
        "**атрибуты**\n",
        "\n",
        "is_square возвращает square, при необходимости предварительно вычисляя и заполняя эту переменную\n",
        "\n",
        "is_singular - возвращает singular, при необходимости предварительно вычисляя и заполняя эту переменную\n",
        "\n",
        "get_inv - - возвращает обратную матрицу, если она существует\n",
        "\n",
        "**метод**\n",
        "\n",
        "\n",
        "x проверяет невырожденность матрицы методами этого же класса, для невырожденной матрицы возвращает True и решение или False и  пустой np.array"
      ],
      "metadata": {
        "id": "26tbax0ZzfVq"
      },
      "id": "26tbax0ZzfVq"
    },
    {
      "cell_type": "code",
      "source": [
        "# это ячейка для описания всех классов"
      ],
      "metadata": {
        "id": "Ixv-fBbu6nCz"
      },
      "id": "Ixv-fBbu6nCz",
      "execution_count": null,
      "outputs": []
    },
    {
      "cell_type": "markdown",
      "source": [
        "Считать матрицу и вектор из файла 'ab1.xlsx'"
      ],
      "metadata": {
        "id": "zG7s-dtG0rS1"
      },
      "id": "zG7s-dtG0rS1"
    },
    {
      "cell_type": "code",
      "source": [],
      "metadata": {
        "id": "z5b-GXbb6okn"
      },
      "id": "z5b-GXbb6okn",
      "execution_count": null,
      "outputs": []
    },
    {
      "cell_type": "markdown",
      "source": [
        "Создать экземпляр класса SLAE с именем 'SLAE_1_1' и матрицей A1, вектором b1, вывести экземпляр на экран"
      ],
      "metadata": {
        "id": "G0s5Goby0y4I"
      },
      "id": "G0s5Goby0y4I"
    },
    {
      "cell_type": "code",
      "source": [],
      "metadata": {
        "id": "XiX0ltYr6pcL"
      },
      "id": "XiX0ltYr6pcL",
      "execution_count": null,
      "outputs": []
    },
    {
      "cell_type": "markdown",
      "source": [
        "Вывести на экран атрибуты SLAE_1:\n",
        "\n",
        "a\n",
        "\n",
        "get_a\n",
        "\n",
        "b\n",
        "\n",
        "get_b"
      ],
      "metadata": {
        "id": "M6VOyhHk7z47"
      },
      "id": "M6VOyhHk7z47"
    },
    {
      "cell_type": "code",
      "source": [],
      "metadata": {
        "id": "eJtz5sg671P3"
      },
      "id": "eJtz5sg671P3",
      "execution_count": null,
      "outputs": []
    },
    {
      "cell_type": "markdown",
      "source": [
        "заменить b на вектор из нулей\n",
        "\n",
        "вывести на экран текущее значение b"
      ],
      "metadata": {
        "id": "iOYYeAwd1Ifd"
      },
      "id": "iOYYeAwd1Ifd"
    },
    {
      "cell_type": "code",
      "source": [],
      "metadata": {
        "id": "eUHpW-zZ6qYf"
      },
      "id": "eUHpW-zZ6qYf",
      "execution_count": null,
      "outputs": []
    },
    {
      "cell_type": "markdown",
      "source": [
        "заменить b на вектор [4, 5, 6, 7]\n",
        "\n",
        "вывести на экран текущее значение b"
      ],
      "metadata": {
        "id": "DZQSa-y_8NCd"
      },
      "id": "DZQSa-y_8NCd"
    },
    {
      "cell_type": "code",
      "source": [],
      "metadata": {
        "id": "GjfvfnpJ8OCv"
      },
      "id": "GjfvfnpJ8OCv",
      "execution_count": null,
      "outputs": []
    },
    {
      "cell_type": "markdown",
      "source": [
        "Попытаться заменить b на вектор [-1, 2, -3, 4, 5, 6, 7]\n",
        "\n",
        "вывести на экран текущее значение b и решение СЛАУ"
      ],
      "metadata": {
        "id": "tvrAT9m44IIZ"
      },
      "id": "tvrAT9m44IIZ"
    },
    {
      "cell_type": "code",
      "source": [],
      "metadata": {
        "id": "qotTWFLH6rbh"
      },
      "id": "qotTWFLH6rbh",
      "execution_count": null,
      "outputs": []
    },
    {
      "cell_type": "markdown",
      "source": [
        "Создать экземпляр класса SLAEhomogeneous с именем 'SLAE_homo_1' и матрицей A1, вывести экземпляр на экран"
      ],
      "metadata": {
        "id": "ILNtafyu8Yc5"
      },
      "id": "ILNtafyu8Yc5"
    },
    {
      "cell_type": "code",
      "source": [],
      "metadata": {
        "id": "OM11nvvy8bPi"
      },
      "id": "OM11nvvy8bPi",
      "execution_count": null,
      "outputs": []
    },
    {
      "cell_type": "markdown",
      "source": [
        "\n",
        "Вывести на экран атрибуты SLAE_homo_1:\n",
        "\n",
        "a\n",
        "\n",
        "get_a"
      ],
      "metadata": {
        "id": "eZgis51-8bna"
      },
      "id": "eZgis51-8bna"
    },
    {
      "cell_type": "code",
      "source": [],
      "metadata": {
        "id": "Xi5uNNRl8ct8"
      },
      "id": "Xi5uNNRl8ct8",
      "execution_count": null,
      "outputs": []
    },
    {
      "cell_type": "markdown",
      "source": [
        "вывести на экран текущее значение b\n",
        "\n",
        "попытаться заменить b на вектор [1, 2, 3, 4, 5, 6, 7]\n",
        "\n",
        "вывести на экран текущее значение b"
      ],
      "metadata": {
        "id": "nbskjaFi4V4M"
      },
      "id": "nbskjaFi4V4M"
    },
    {
      "cell_type": "code",
      "source": [],
      "metadata": {
        "id": "7S4WtVzE6sdy"
      },
      "id": "7S4WtVzE6sdy",
      "execution_count": null,
      "outputs": []
    },
    {
      "cell_type": "markdown",
      "source": [
        "Создать экземпляр класса SLAEsquare с именем 'SLAE_sq_1' и матрицей A1, вектором b1 вывести экземпляр на экран\n",
        "\n",
        "Вывести на экран атрибуты SLAE_sq_1:\n",
        "\n",
        "a\n",
        "\n",
        "get_a\n",
        "\n",
        "вывести решение x"
      ],
      "metadata": {
        "id": "6smkCjly8hzr"
      },
      "id": "6smkCjly8hzr"
    },
    {
      "cell_type": "code",
      "source": [],
      "metadata": {
        "id": "Ao3BPwZX8jrZ"
      },
      "id": "Ao3BPwZX8jrZ",
      "execution_count": null,
      "outputs": []
    },
    {
      "cell_type": "markdown",
      "source": [
        "заменить b на нулевой вектор\n",
        "\n",
        "\n",
        "вывести на экран текущее значение b и решение x\n",
        "\n",
        "попытаться заменить b на вектор [1, 2, 3, 4, 5]\n",
        "\n",
        "вывести на экран текущее значение b"
      ],
      "metadata": {
        "id": "alvWKxkz405W"
      },
      "id": "alvWKxkz405W"
    },
    {
      "cell_type": "code",
      "source": [],
      "metadata": {
        "id": "n3RJ2BDM6tik"
      },
      "id": "n3RJ2BDM6tik",
      "execution_count": null,
      "outputs": []
    },
    {
      "cell_type": "markdown",
      "source": [
        "Считать матрицу и вектор из файла 'ab2.xlsx'"
      ],
      "metadata": {
        "id": "i0k9Skfm50ny"
      },
      "id": "i0k9Skfm50ny"
    },
    {
      "cell_type": "code",
      "source": [],
      "metadata": {
        "id": "7ggOKp7V6uso"
      },
      "id": "7ggOKp7V6uso",
      "execution_count": null,
      "outputs": []
    },
    {
      "cell_type": "markdown",
      "source": [
        "Создать экземпляр класса SLAEsquare с именем 'SLAE_sq_2' и матрицей A2, вектором b2 вывести экземпляр на экран\n",
        "\n",
        "Вывести на экран атрибуты SLAE_sq_2:\n",
        "\n",
        "a\n",
        "\n",
        "get_a\n",
        "\n",
        "вывести решение x"
      ],
      "metadata": {
        "id": "xkjiMM9T59Wi"
      },
      "id": "xkjiMM9T59Wi"
    },
    {
      "cell_type": "code",
      "source": [],
      "metadata": {
        "id": "gdiB5Z7U6vg_"
      },
      "id": "gdiB5Z7U6vg_",
      "execution_count": null,
      "outputs": []
    },
    {
      "cell_type": "markdown",
      "source": [
        "заменить b на нулевой вектор\n",
        "\n",
        "\n",
        "вывести на экран текущее значение b и решение x\n",
        "\n",
        "попытаться заменить b на вектор [1, 2, 3, 4, 5, 6]\n",
        "\n",
        "вывести на экран текущее значение b"
      ],
      "metadata": {
        "id": "xnpADMm58pYI"
      },
      "id": "xnpADMm58pYI"
    },
    {
      "cell_type": "code",
      "source": [],
      "metadata": {
        "id": "uKoF3kte8p9J"
      },
      "id": "uKoF3kte8p9J",
      "execution_count": null,
      "outputs": []
    }
  ],
  "metadata": {
    "kernelspec": {
      "display_name": "Python 3 (ipykernel)",
      "language": "python",
      "name": "python3"
    },
    "language_info": {
      "codemirror_mode": {
        "name": "ipython",
        "version": 3
      },
      "file_extension": ".py",
      "mimetype": "text/x-python",
      "name": "python",
      "nbconvert_exporter": "python",
      "pygments_lexer": "ipython3",
      "version": "3.11.5"
    },
    "colab": {
      "provenance": []
    }
  },
  "nbformat": 4,
  "nbformat_minor": 5
}